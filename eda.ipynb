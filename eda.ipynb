{
 "cells": [
  {
   "cell_type": "code",
   "execution_count": 18,
   "metadata": {},
   "outputs": [],
   "source": [
    "import pandas as pd\n",
    "import numpy as np\n",
    "import matplotlib.pyplot as plt\n",
    "import seaborn as sns\n",
    "import datetime"
   ]
  },
  {
   "cell_type": "code",
   "execution_count": 19,
   "metadata": {},
   "outputs": [],
   "source": [
    "#load data\n",
    "walk1 = pd.read_csv('./data/walk1.csv')\n",
    "walk2 = pd.read_csv('./data/walk2.csv')\n",
    "run = pd.read_csv('./data/run.csv')\n",
    "stairs = pd.read_csv('./data/stairs.csv')\n",
    "relaxed = pd.read_csv('./data/relaxed.csv')\n"
   ]
  },
  {
   "cell_type": "code",
   "execution_count": 33,
   "metadata": {},
   "outputs": [
    {
     "name": "stderr",
     "output_type": "stream",
     "text": [
      "<>:11: SyntaxWarning: invalid escape sequence '\\('\n",
      "<>:11: SyntaxWarning: invalid escape sequence '\\('\n",
      "C:\\Users\\Lia\\AppData\\Local\\Temp\\ipykernel_110800\\2380420984.py:11: SyntaxWarning: invalid escape sequence '\\('\n",
      "  df = df[df.columns.drop(list(df.filter(regex='Time \\(s\\)\\.\\d+')))]\n"
     ]
    }
   ],
   "source": [
    "def clean_data(df, activity):\n",
    "    '''\n",
    "    This function cleans the data by:\n",
    "    1. Drop columns with all missing values\n",
    "    2. Convert datetime to date column and time column separately\n",
    "    3. Drop the original datetime column\n",
    "    4. Drop Time (s) column followed by dot and a number\n",
    "    5. Create a new column for activity\n",
    "\n",
    "    Parameters:\n",
    "    df: pandas dataframe\n",
    "    activity: string\n",
    "\n",
    "    Returns:\n",
    "    df: cleaned pandas dataframe \n",
    "    '''\n",
    "    df = df.copy()\n",
    "    # Drop columns with all missing values\n",
    "    df.dropna(axis=1, how='all', inplace=True)\n",
    "    # Convert datetime to date column and time column separately\n",
    "    df['Date'] = pd.to_datetime(df['Actual System Time Text']).dt.date\n",
    "    df['Time'] = pd.to_datetime(df['Actual System Time Text']).dt.time\n",
    "    # Drop the original datetime column\n",
    "    df.drop(columns=['Actual System Time Text', 'Actual System Time', 'Time (s)'], inplace=True)\n",
    "    # Drop Time (s) column followed by dot and a number\n",
    "    df = df[df.columns.drop(list(df.filter(regex='Time \\(s\\)\\.\\d+')))]\n",
    "    # Create a new column for activity\n",
    "    df['Activity'] = activity\n",
    "    #if activity is walking, drop the Latitude (°)\tLongitude (°)\tHeight (m)\tVelocity (m/s)\tDirection (°)\tHorizontal Accuracy (m)\tVertical Accuracy (m) columns\n",
    "    if activity == 'walking':\n",
    "        df.drop(columns=['Latitude (°)', 'Longitude (°)', 'Height (m)', 'Velocity (m/s)', 'Direction (°)', 'Horizontal Accuracy (m)', 'Vertical Accuracy (m)'], inplace=True) \n",
    "    return df"
   ]
  },
  {
   "cell_type": "code",
   "execution_count": null,
   "metadata": {},
   "outputs": [],
   "source": [
    "walk1_df = clean_data(walk1,'walking')\n",
    "walk2_df = clean_data(walk2,'walking')\n",
    "run_df = clean_data(run,'running')\n",
    "stairs_df = clean_data(stairs,'stairs')\n",
    "relaxed_df = clean_data(relaxed,'relaxed')"
   ]
  },
  {
   "cell_type": "code",
   "execution_count": null,
   "metadata": {},
   "outputs": [],
   "source": [
    "#concatenate all dataframes and sort by date and time\n",
    "df = pd.concat([walk1_df, walk2_df, run_df, stairs_df, relaxed_df])\n",
    "df = df.sort_values(by=['Date', 'Time'])\n",
    "#reset index\n",
    "df = df.reset_index(drop=True)\n",
    "#save the cleaned data to a csv file\n",
    "df.to_csv('./data/all_data.csv', index=False)"
   ]
  }
 ],
 "metadata": {
  "kernelspec": {
   "display_name": "ML4QS",
   "language": "python",
   "name": "python3"
  },
  "language_info": {
   "codemirror_mode": {
    "name": "ipython",
    "version": 3
   },
   "file_extension": ".py",
   "mimetype": "text/x-python",
   "name": "python",
   "nbconvert_exporter": "python",
   "pygments_lexer": "ipython3",
   "version": "3.12.3"
  }
 },
 "nbformat": 4,
 "nbformat_minor": 2
}
